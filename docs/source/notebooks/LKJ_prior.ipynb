{
 "cells": [
  {
   "cell_type": "code",
   "execution_count": 22,
   "metadata": {
    "collapsed": false
   },
   "outputs": [],
   "source": [
    "%matplotlib inline\n",
    "from pymc3 import Model, sample, Normal, Uniform, MvNormal, LKJCorr, find_MAP, forestplot\n",
    "import numpy as np\n",
    "import theano.tensor as tt\n",
    "from theano.tensor.nlinalg import matrix_inverse as inv\n",
    "from numpy import array, diag, linspace\n",
    "from numpy.random import multivariate_normal"
   ]
  },
  {
   "cell_type": "markdown",
   "metadata": {},
   "source": [
    "# The LKJ (Lewandowski, Kurowicka and Joe) Distribution\n",
    "\n",
    "The LKJ distribution is a prior distribution for correlation matrices. If n = 1 this corresponds to the uniform distribution over correlation matrices. As `n` approaches infinity, the LKJ prior approaches the identity matrix.\n",
    "\n",
    "The support of the distribution is all upper triangular matrix with element values in [-1, 1].\n",
    "\n",
    "PyMC3's implementation only returns the values of the upper triangular matrix, excluding the diagonal."
   ]
  },
  {
   "cell_type": "markdown",
   "metadata": {},
   "source": [
    "To demonstrate, we will generate some data from an arbitrary multivariate normal distribution, then try to recover its parameter values via a LKJ prior on the correlation matrix.\n",
    "\n",
    "First, we generate some multivariate normal data:"
   ]
  },
  {
   "cell_type": "code",
   "execution_count": 13,
   "metadata": {
    "collapsed": false
   },
   "outputs": [],
   "source": [
    "n_obs = 1000\n",
    "\n",
    "# Mean values:\n",
    "mu = linspace(0, 2, num=4)\n",
    "n_var = len(mu)\n",
    "\n",
    "# Standard deviations:\n",
    "stds = np.ones(4) / 2.0\n",
    "\n",
    "# Correlation matrix of 4 variables:\n",
    "corr = array([[1.,  0.75,  0.,  0.15],\n",
    "              [0.75,  1., -0.06,  0.19],\n",
    "              [0., -0.06,  1., -0.04],\n",
    "              [0.15,  0.19, -0.04,  1.]])\n",
    "cov_matrix = diag(stds).dot(corr.dot(diag(stds)))\n",
    "\n",
    "dataset = multivariate_normal(mu, cov_matrix, size=n_obs)"
   ]
  },
  {
   "cell_type": "markdown",
   "metadata": {},
   "source": [
    "In order to convert the upper triangular correlation values to a complete correlation matrix, we need to construct an index matrix."
   ]
  },
  {
   "cell_type": "code",
   "execution_count": 14,
   "metadata": {
    "collapsed": true
   },
   "outputs": [],
   "source": [
    "n_elem = int(n_var * (n_var - 1) / 2)\n",
    "tri_index = np.zeros([n_var, n_var], dtype=int)\n",
    "tri_index[np.triu_indices(n_var, k=1)] = np.arange(n_elem)\n",
    "tri_index[np.triu_indices(n_var, k=1)[::-1]] = np.arange(n_elem)"
   ]
  },
  {
   "cell_type": "code",
   "execution_count": 25,
   "metadata": {
    "collapsed": false
   },
   "outputs": [
    {
     "data": {
      "text/plain": [
       "array([[0, 0, 1, 2],\n",
       "       [0, 0, 3, 4],\n",
       "       [1, 3, 0, 5],\n",
       "       [2, 4, 5, 0]])"
      ]
     },
     "execution_count": 25,
     "metadata": {},
     "output_type": "execute_result"
    }
   ],
   "source": [
    "tri_index"
   ]
  },
  {
   "cell_type": "markdown",
   "metadata": {},
   "source": [
    "The zeros on the diagonal will be replaced with variances."
   ]
  },
  {
   "cell_type": "code",
   "execution_count": 18,
   "metadata": {
    "collapsed": false
   },
   "outputs": [
    {
     "name": "stdout",
     "output_type": "stream",
     "text": [
      "Applied interval-transform to sigma and added transformed sigma_interval_ to model.\n"
     ]
    }
   ],
   "source": [
    "with Model() as model:\n",
    "\n",
    "    mu = Normal('mu', mu=0, tau=1 ** -2, shape=n_var)\n",
    "\n",
    "    # We can specify separate priors for sigma and the correlation matrix:\n",
    "    sigma = Uniform('sigma', shape=n_var)\n",
    "    rho = LKJCorr('rho', n=1, p=n_var)\n",
    "    \n",
    "    # Construct matrix from sigma\n",
    "    corr_matrix = rho[tri_index]\n",
    "    corr_matrix = tt.fill_diagonal(corr_matrix, 1)\n",
    "    cov_matrix = tt.diag(sigma).dot(corr_matrix.dot(tt.diag(sigma)))\n",
    "\n",
    "    like = MvNormal('likelihood', mu=mu, tau=inv(cov_matrix), observed=dataset)\n"
   ]
  },
  {
   "cell_type": "code",
   "execution_count": 19,
   "metadata": {
    "collapsed": false
   },
   "outputs": [
    {
     "name": "stdout",
     "output_type": "stream",
     "text": [
      "Assigned NUTS to mu\n",
      "Assigned NUTS to sigma_interval_\n",
      "Assigned NUTS to corr\n",
      " [-------100%-------] 2000 of 2000 in 28.8 sec. | SPS: 69.5 | ETA: 0.0"
     ]
    }
   ],
   "source": [
    "with model:\n",
    "    tr = sample(2000, start=find_MAP())"
   ]
  },
  {
   "cell_type": "code",
   "execution_count": 23,
   "metadata": {
    "collapsed": false
   },
   "outputs": [
    {
     "data": {
      "image/png": "[encoded data removed]",
      "text/plain": [
       "<matplotlib.figure.Figure at 0x1216781d0>"
      ]
     },
     "metadata": {},
     "output_type": "display_data"
    }
   ],
   "source": [
    "forestplot(tr, varnames=['sigma']);"
   ]
  },
  {
   "cell_type": "code",
   "execution_count": 24,
   "metadata": {
    "collapsed": false
   },
   "outputs": [
    {
     "data": {
      "image/png": "[encoded data removed]",
      "text/plain": [
       "<matplotlib.figure.Figure at 0x12170b080>"
      ]
     },
     "metadata": {},
     "output_type": "display_data"
    }
   ],
   "source": [
    "forestplot(tr, varnames=['rho']);"
   ]
  },
  {
   "cell_type": "markdown",
   "metadata": {},
   "source": [
    "## References\n",
    "\n",
    "1.\tLewandowski D, Kurowicka D, Joe H. Generating random correlation matrices based on vines and extended onion method. *Journal of Multivariate Analysis*. 2009;100(9):1989-2001. [doi:10.1016/j.jmva.2009.04.008.](http://www.sciencedirect.com/science/article/pii/S0047259X09000876)"
   ]
  }
 ],
 "metadata": {
  "anaconda-cloud": {},
  "kernelspec": {
   "display_name": "Python [default]",
   "language": "python",
   "name": "python3"
  },
  "language_info": {
   "codemirror_mode": {
    "name": "ipython",
    "version": 3
   },
   "file_extension": ".py",
   "mimetype": "text/x-python",
   "name": "python",
   "nbconvert_exporter": "python",
   "pygments_lexer": "ipython3",
   "version": "3.5.2"
  },
  "latex_envs": {
   "bibliofile": "biblio.bib",
   "cite_by": "apalike",
   "current_citInitial": 1,
   "eqLabelWithNumbers": true,
   "eqNumInitial": 0
  },
  "nav_menu": {},
  "toc": {
   "navigate_menu": true,
   "number_sections": false,
   "sideBar": false,
   "threshold": "3",
   "toc_cell": false,
   "toc_section_display": "block",
   "toc_window_display": false
  }
 },
 "nbformat": 4,
 "nbformat_minor": 1
}
