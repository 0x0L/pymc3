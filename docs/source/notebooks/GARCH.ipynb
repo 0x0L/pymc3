{
 "cells": [
  {
   "cell_type": "markdown",
   "metadata": {
    "toc": "true"
   },
   "source": [
    "# Table of Contents\n",
    " <p>"
   ]
  },
  {
   "cell_type": "code",
   "execution_count": null,
   "metadata": {
    "collapsed": true
   },
   "outputs": [],
   "source": [
    "from pymc3 import Normal, sample, Model, Bound\n",
    "import theano.tensor as tt\n",
    "import numpy as np\n",
    "\n",
    "\"\"\"\n",
    "Example from STAN - slightly altered\n",
    "// GARCH(1,1)\n",
    "\n",
    "data {\n",
    "  int<lower=0> T;\n",
    "  real r[T];\n",
    "  real<lower=0> sigma1;\n",
    "}\n",
    "parameters {\n",
    "  real mu;\n",
    "  real<lower=0> alpha0;\n",
    "  real<lower=0,upper=1> alpha1;\n",
    "  real<lower=0, upper=(1-alpha1)> beta1;\n",
    "}\n",
    "transformed parameters {\n",
    "  real<lower=0> sigma[T];\n",
    "  sigma[1] <- sigma1;\n",
    "  for (t in 2:T)\n",
    "    sigma[t] <- sqrt(alpha0\n",
    "                     + alpha1 * pow(r[t-1] - mu, 2)\n",
    "                     + beta1 * pow(sigma[t-1], 2));\n",
    "}\n",
    "model {\n",
    "  r ~ normal(mu,sigma);\n",
    "}\n",
    "\"\"\"\n",
    "J = 8\n",
    "r = np.array([28, 8, -3, 7, -1, 1, 18, 12])\n",
    "sigma1 = np.array([15, 10, 16, 11, 9, 11, 10, 18])\n",
    "alpha0 = np.array([10, 10, 16, 8, 9, 11, 12, 18])\n",
    "\n",
    "with Model() as garch:\n",
    "    alpha1 = Normal('alpha1', 0, 1, shape=J)\n",
    "    BoundedNormal = Bound(Normal, upper=(1 - alpha1))\n",
    "    beta1 = BoundedNormal('beta1', 0, sd=1e6)\n",
    "    mu = Normal('mu', 0, sd=1e6)\n",
    "\n",
    "    theta = tt.sqrt(alpha0 + alpha1 * tt.pow(r - mu, 2) +\n",
    "                    beta1 * tt.pow(sigma1, 2))\n",
    "\n",
    "    obs = Normal('obs', mu, sd=theta, observed=r)\n",
    "\n",
    "\n",
    "def run(n=1000):\n",
    "    if n == \"short\":\n",
    "        n = 50\n",
    "    with garch:\n",
    "        tr = sample(n)\n",
    "\n",
    "\n",
    "if __name__ == '__main__':\n",
    "    run()\n"
   ]
  }
 ],
 "metadata": {
  "anaconda-cloud": {},
  "kernelspec": {
   "display_name": "Python [default]",
   "language": "python",
   "name": "python3"
  },
  "language_info": {
   "codemirror_mode": {
    "name": "ipython",
    "version": 3
   },
   "file_extension": ".py",
   "mimetype": "text/x-python",
   "name": "python",
   "nbconvert_exporter": "python",
   "pygments_lexer": "ipython3",
   "version": "3.5.2"
  },
  "latex_envs": {
   "bibliofile": "biblio.bib",
   "cite_by": "apalike",
   "current_citInitial": 1,
   "eqLabelWithNumbers": true,
   "eqNumInitial": 0
  },
  "nav_menu": {},
  "toc": {
   "navigate_menu": true,
   "number_sections": false,
   "sideBar": false,
   "threshold": "3",
   "toc_cell": true,
   "toc_section_display": "block",
   "toc_window_display": false
  }
 },
 "nbformat": 4,
 "nbformat_minor": 1
}
